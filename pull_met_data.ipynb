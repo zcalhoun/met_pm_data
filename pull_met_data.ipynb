{
 "cells": [
  {
   "cell_type": "markdown",
   "metadata": {},
   "source": [
    "# Pull Meteorological Data\n",
    "This notebook demonstrates how to pull the data from the Weather Underground API as well as from the TSI website.\n",
    "\n",
    "Since we are going to be connecting the weather stations to the Ambient Weather API, it may be useful to look at the data through that system, too, but the Weather Underground API may be sufficient for our needs."
   ]
  },
  {
   "cell_type": "code",
   "execution_count": 3,
   "metadata": {},
   "outputs": [],
   "source": [
    "# Put all imports in this cell\n",
    "import os\n",
    "import requests\n",
    "import json\n",
    "\n",
    "# For formatting the data as it comes in\n",
    "import pandas as pd"
   ]
  },
  {
   "cell_type": "code",
   "execution_count": 9,
   "metadata": {},
   "outputs": [],
   "source": [
    "# Let's go ahead and load the credentials needed to pull the data here\n",
    "with open('./tsi_creds.json') as f:\n",
    "    creds = json.load(f)\n",
    "\n",
    "tsi_key = creds['key']\n",
    "tsi_secret = creds['secret']\n",
    "\n",
    "with open('./wu_api_key.json') as f:\n",
    "    wu_key = json.load(f)['test_api_key']"
   ]
  },
  {
   "cell_type": "markdown",
   "metadata": {},
   "source": [
    "# Pulling the TSI Air Quality Data\n",
    "Let's start off by pulling the air quality data in this cell.\n",
    "\n",
    "To pull data from the TSI website, you have to use an OATH2 flow. In simple terms, this just means you have to request an authorization token, and once you have that token, you can make the data pull to retrieve the data.\n",
    "\n",
    "I'm going to show that flow here to pull that data."
   ]
  },
  {
   "cell_type": "code",
   "execution_count": 37,
   "metadata": {},
   "outputs": [
    {
     "name": "stdout",
     "output_type": "stream",
     "text": [
      "200\n"
     ]
    }
   ],
   "source": [
    "# Authorization flow\n",
    "base_url = 'https://api-prd.tsilink.com/api/v3/external'\n",
    "authorize_url = base_url + '/oauth/client_credential/accesstoken'\n",
    "\n",
    "params = {\n",
    "    'grant_type': 'client_credentials',\n",
    "    'Content-Type': \"application/x-www-form-urlencoded\"\n",
    "}\n",
    "\n",
    "data = {\n",
    "    'client_id': tsi_key,\n",
    "    'client_secret': tsi_secret,\n",
    "}\n",
    "\n",
    "response = requests.post(authorize_url, params=params, data=data)\n",
    "\n",
    "print(response.status_code)\n",
    "access_token = response.json()['access_token']\n",
    "app_name = response.json()['application_name']"
   ]
  },
  {
   "cell_type": "markdown",
   "metadata": {},
   "source": [
    "Since the status code is 200, we know the request was successful. We can now use that access token to look at the data.\n",
    "\n",
    "Now that we generated that key, let's go ahead and look at what devices we have registered through this API. \n",
    "\n",
    "**Note: you can only pull data if the device has been registered with the API. To do this, you'll need to go to the TSI API web page and register the device using the serial number.**\n",
    "\n",
    "Let's make the request to see what that looks like."
   ]
  },
  {
   "cell_type": "code",
   "execution_count": 46,
   "metadata": {},
   "outputs": [
    {
     "name": "stdout",
     "output_type": "stream",
     "text": [
      "200\n"
     ]
    }
   ],
   "source": [
    "device_url = os.path.join(base_url, 'devices')\n",
    "\n",
    "# Make a GET request to the given URL\n",
    "# The authorization is a Bearer token, using the access token I just generated.\n",
    "header = {\n",
    "    \"Accept\": \"application/json\",\n",
    "    \"Authorization\": 'Bearer ' + access_token\n",
    "}\n",
    "\n",
    "# Make the request, and print whether the request was successful. If the code is \n",
    "# 200, then the request was successful. Else, you have a problem.\n",
    "response = requests.get(device_url, headers=header)\n",
    "print(response.status_code)"
   ]
  },
  {
   "cell_type": "code",
   "execution_count": 47,
   "metadata": {},
   "outputs": [
    {
     "name": "stdout",
     "output_type": "stream",
     "text": [
      "MS-01 Last updated 2024-05-10T17:24:56Z\n",
      "MS-02 Last updated 2024-05-11T15:34:56Z\n"
     ]
    }
   ],
   "source": [
    "devices = []\n",
    "for r in response.json():\n",
    "    print(r['metadata']['friendlyName'], \"Last updated \" + r['updated_at'])\n",
    "    devices.append(r['device_id'])"
   ]
  },
  {
   "cell_type": "markdown",
   "metadata": {},
   "source": [
    "So, we have two sensors registered in the API. Let's look at the data from the first sensor."
   ]
  },
  {
   "cell_type": "code",
   "execution_count": 57,
   "metadata": {},
   "outputs": [
    {
     "name": "stdout",
     "output_type": "stream",
     "text": [
      "200\n"
     ]
    }
   ],
   "source": [
    "device_id = devices[0]\n",
    "\n",
    "# We can re-use the header from the previous cell to make this request\n",
    "# We just need to change the URL, and specify the age of the measurements that\n",
    "# we want, which is the number of days in the past (MAX 30)\n",
    "\n",
    "params = {\n",
    "    'age': 4,\n",
    "    'device_id': device_id\n",
    "}\n",
    "\n",
    "device_data_url = os.path.join(base_url, 'telemetry')\n",
    "\n",
    "response = requests.get(device_data_url, headers=header, params=params)\n",
    "print(response.status_code)"
   ]
  },
  {
   "cell_type": "markdown",
   "metadata": {},
   "source": [
    "Let's unpack that data -- this is going to require peeking into that `response.json()` object to figure out what's inside. I've done a rough job of that below, but you may want to clean this up."
   ]
  },
  {
   "cell_type": "code",
   "execution_count": 70,
   "metadata": {},
   "outputs": [],
   "source": [
    "data = []\n",
    "for row in response.json():\n",
    "    cloud_timestamp = row['cloud_timestamp']\n",
    "\n",
    "    for sensor in row['sensors']:\n",
    "        for measurement in sensor['measurements']:\n",
    "            data.append([\n",
    "                cloud_timestamp,\n",
    "                sensor['type'],\n",
    "                measurement['name'],\n",
    "                measurement['data']['value'],\n",
    "                measurement['data']['timestamp']\n",
    "            ])\n",
    "\n",
    "df = pd.DataFrame(data, columns=['cloud_timestamp', 'sensor_type', 'measurement_name', 'value', 'timestamp'])"
   ]
  },
  {
   "cell_type": "code",
   "execution_count": 77,
   "metadata": {},
   "outputs": [
    {
     "data": {
      "text/html": [
       "<div>\n",
       "<style scoped>\n",
       "    .dataframe tbody tr th:only-of-type {\n",
       "        vertical-align: middle;\n",
       "    }\n",
       "\n",
       "    .dataframe tbody tr th {\n",
       "        vertical-align: top;\n",
       "    }\n",
       "\n",
       "    .dataframe thead th {\n",
       "        text-align: right;\n",
       "    }\n",
       "</style>\n",
       "<table border=\"1\" class=\"dataframe\">\n",
       "  <thead>\n",
       "    <tr style=\"text-align: right;\">\n",
       "      <th></th>\n",
       "      <th>cloud_timestamp</th>\n",
       "      <th>sensor_type</th>\n",
       "      <th>measurement_name</th>\n",
       "      <th>value</th>\n",
       "      <th>timestamp</th>\n",
       "    </tr>\n",
       "  </thead>\n",
       "  <tbody>\n",
       "    <tr>\n",
       "      <th>0</th>\n",
       "      <td>2024-05-11T17:10:26.626Z</td>\n",
       "      <td>temp_rh</td>\n",
       "      <td>Temperature</td>\n",
       "      <td>30.1</td>\n",
       "      <td>2024-05-11T16:55:26Z</td>\n",
       "    </tr>\n",
       "    <tr>\n",
       "      <th>1</th>\n",
       "      <td>2024-05-11T17:10:26.626Z</td>\n",
       "      <td>temp_rh</td>\n",
       "      <td>Relative Humidity</td>\n",
       "      <td>37.0</td>\n",
       "      <td>2024-05-11T16:55:26Z</td>\n",
       "    </tr>\n",
       "    <tr>\n",
       "      <th>2</th>\n",
       "      <td>2024-05-11T17:10:26.626Z</td>\n",
       "      <td>pm</td>\n",
       "      <td>NC 10</td>\n",
       "      <td>6.0</td>\n",
       "      <td>2024-05-11T16:55:26Z</td>\n",
       "    </tr>\n",
       "    <tr>\n",
       "      <th>3</th>\n",
       "      <td>2024-05-11T17:10:26.626Z</td>\n",
       "      <td>pm</td>\n",
       "      <td>PM 2.5</td>\n",
       "      <td>1.0</td>\n",
       "      <td>2024-05-11T16:55:26Z</td>\n",
       "    </tr>\n",
       "    <tr>\n",
       "      <th>4</th>\n",
       "      <td>2024-05-11T17:10:26.626Z</td>\n",
       "      <td>pm</td>\n",
       "      <td>NC 0.5</td>\n",
       "      <td>5.0</td>\n",
       "      <td>2024-05-11T16:55:26Z</td>\n",
       "    </tr>\n",
       "  </tbody>\n",
       "</table>\n",
       "</div>"
      ],
      "text/plain": [
       "            cloud_timestamp sensor_type   measurement_name  value  \\\n",
       "0  2024-05-11T17:10:26.626Z     temp_rh        Temperature   30.1   \n",
       "1  2024-05-11T17:10:26.626Z     temp_rh  Relative Humidity   37.0   \n",
       "2  2024-05-11T17:10:26.626Z          pm              NC 10    6.0   \n",
       "3  2024-05-11T17:10:26.626Z          pm             PM 2.5    1.0   \n",
       "4  2024-05-11T17:10:26.626Z          pm             NC 0.5    5.0   \n",
       "\n",
       "              timestamp  \n",
       "0  2024-05-11T16:55:26Z  \n",
       "1  2024-05-11T16:55:26Z  \n",
       "2  2024-05-11T16:55:26Z  \n",
       "3  2024-05-11T16:55:26Z  \n",
       "4  2024-05-11T16:55:26Z  "
      ]
     },
     "execution_count": 77,
     "metadata": {},
     "output_type": "execute_result"
    }
   ],
   "source": [
    "df.head()\n"
   ]
  },
  {
   "cell_type": "markdown",
   "metadata": {},
   "source": [
    "There you have it! That's a very simple demo of how to start looking at this historical data."
   ]
  }
 ],
 "metadata": {
  "kernelspec": {
   "display_name": "uhi",
   "language": "python",
   "name": "python3"
  },
  "language_info": {
   "codemirror_mode": {
    "name": "ipython",
    "version": 3
   },
   "file_extension": ".py",
   "mimetype": "text/x-python",
   "name": "python",
   "nbconvert_exporter": "python",
   "pygments_lexer": "ipython3",
   "version": "3.11.0"
  }
 },
 "nbformat": 4,
 "nbformat_minor": 2
}
